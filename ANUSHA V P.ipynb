{
 "cells": [
  {
   "cell_type": "code",
   "execution_count": 2,
   "metadata": {},
   "outputs": [
    {
     "name": "stdout",
     "output_type": "stream",
     "text": [
      "enter your nameanusha\n",
      "anusha\n"
     ]
    }
   ],
   "source": [
    "a=input('enter your name:')\n",
    "print(a)\n"
   ]
  },
  {
   "cell_type": "code",
   "execution_count": 5,
   "metadata": {},
   "outputs": [
    {
     "name": "stdout",
     "output_type": "stream",
     "text": [
      "enter the value2\n",
      "true\n"
     ]
    }
   ],
   "source": [
    "b=\"hi\"\n",
    "c=2\n",
    "a=int(input(\"enter the value\"))\n",
    "if(a==2):\n",
    "    print(\"true\")\n",
    "else:\n",
    "    print(\"false\")"
   ]
  },
  {
   "cell_type": "code",
   "execution_count": 6,
   "metadata": {},
   "outputs": [
    {
     "name": "stdout",
     "output_type": "stream",
     "text": [
      "the type of a is <class 'str'>\n",
      "the type of b is <class 'int'>\n"
     ]
    }
   ],
   "source": [
    "a=\"hi\"\n",
    "b=1\n",
    "print(\"the type of a is\",type(a))\n",
    "print(\"the type of b is\",type(b))"
   ]
  },
  {
   "cell_type": "code",
   "execution_count": 1,
   "metadata": {},
   "outputs": [
    {
     "name": "stdout",
     "output_type": "stream",
     "text": [
      "sum 20\n"
     ]
    }
   ],
   "source": [
    "a=14\n",
    "b=6\n",
    "print(\"sum\",a+b)"
   ]
  },
  {
   "cell_type": "code",
   "execution_count": null,
   "metadata": {},
   "outputs": [
    {
     "name": "stdout",
     "output_type": "stream",
     "text": [
      "enter the num1:2\n",
      "enter the num2:3\n"
     ]
    }
   ],
   "source": [
    "a=int(input(\"enter the num1:\"))\n",
    "b=int(input(\"enter the num2:\"))\n",
    "c=input()\n",
    "if c==\"+\":\n",
    "    print(\"sum of 2 num is:\",a+b)"
   ]
  },
  {
   "cell_type": "code",
   "execution_count": 1,
   "metadata": {},
   "outputs": [
    {
     "ename": "SyntaxError",
     "evalue": "invalid syntax (<ipython-input-1-d514c71b4fad>, line 4)",
     "output_type": "error",
     "traceback": [
      "\u001b[1;36m  File \u001b[1;32m\"<ipython-input-1-d514c71b4fad>\"\u001b[1;36m, line \u001b[1;32m4\u001b[0m\n\u001b[1;33m    if c==\"+\":\u001b[0m\n\u001b[1;37m     ^\u001b[0m\n\u001b[1;31mSyntaxError\u001b[0m\u001b[1;31m:\u001b[0m invalid syntax\n"
     ]
    }
   ],
   "source": [
    "a=int(input(\"enter the num1:\"))\n",
    "b=int(input(\"enter the num2:\"))\n",
    "c=input(\n",
    "if c==\"+\":\n",
    "    print(\"sum of 2 num is:\",a+b)"
   ]
  },
  {
   "cell_type": "code",
   "execution_count": null,
   "metadata": {
    "collapsed": true
   },
   "outputs": [],
   "source": []
  }
 ],
 "metadata": {
  "kernelspec": {
   "display_name": "Python 3",
   "language": "python",
   "name": "python3"
  }
 },
 "nbformat": 4,
 "nbformat_minor": 2
}
